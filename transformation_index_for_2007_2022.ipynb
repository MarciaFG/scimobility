{
  "nbformat": 4,
  "nbformat_minor": 0,
  "metadata": {
    "colab": {
      "provenance": [],
      "toc_visible": true,
      "machine_shape": "hm",
      "authorship_tag": "ABX9TyOxPGuKlZRIDBNZITwBKz0j",
      "include_colab_link": true
    },
    "kernelspec": {
      "name": "python3",
      "display_name": "Python 3"
    },
    "language_info": {
      "name": "python"
    },
    "accelerator": "GPU",
    "gpuClass": "premium"
  },
  "cells": [
    {
      "cell_type": "markdown",
      "metadata": {
        "id": "view-in-github",
        "colab_type": "text"
      },
      "source": [
        "<a href=\"https://colab.research.google.com/github/MarciaFG/scimobility/blob/main/transformation_index_for_2007_2022.ipynb\" target=\"_parent\"><img src=\"https://colab.research.google.com/assets/colab-badge.svg\" alt=\"Open In Colab\"/></a>"
      ]
    },
    {
      "cell_type": "markdown",
      "source": [
        "# **Transformative Flows Project (2007-2022)**\n",
        "**Author:** Marcia R. Ferreira (Complexity Science Hub Vienna & TU Wien)\n",
        "- **Inputs:** \n",
        "\n",
        "1.   CWTS SQL Server [dimensions_2022jun]:\n",
        "\n",
        "\n",
        "      *   Exported File:\n",
        "      *   Exported File:\n",
        "\n",
        "\n",
        "2.   CWTS Publication-level classification system: Meso-fields level [dimensions_2022jun_classification]\n",
        "3.   Dimension reduction-based clustering: Laplacian matrix contructed from meso-field level topic matrix and second eigenvector of the matrix\n",
        "4.   Dimensions database on BigQuery\n",
        "\n",
        "\n",
        "- **Outputs:**"
      ],
      "metadata": {
        "id": "y-DzlwsCdcsa"
      }
    },
    {
      "cell_type": "markdown",
      "source": [
        "### Initialization and drivers"
      ],
      "metadata": {
        "id": "vHLeNDGsdvjy"
      }
    },
    {
      "cell_type": "code",
      "execution_count": 1,
      "metadata": {
        "id": "-Ue500cAdbLe",
        "colab": {
          "base_uri": "https://localhost:8080/"
        },
        "outputId": "7ef37241-91b4-4b33-c4ad-ef0baedfe35c"
      },
      "outputs": [
        {
          "output_type": "stream",
          "name": "stdout",
          "text": [
            "Thu Apr 13 07:21:25 2023       \n",
            "+-----------------------------------------------------------------------------+\n",
            "| NVIDIA-SMI 525.85.12    Driver Version: 525.85.12    CUDA Version: 12.0     |\n",
            "|-------------------------------+----------------------+----------------------+\n",
            "| GPU  Name        Persistence-M| Bus-Id        Disp.A | Volatile Uncorr. ECC |\n",
            "| Fan  Temp  Perf  Pwr:Usage/Cap|         Memory-Usage | GPU-Util  Compute M. |\n",
            "|                               |                      |               MIG M. |\n",
            "|===============================+======================+======================|\n",
            "|   0  NVIDIA A100-SXM...  Off  | 00000000:00:04.0 Off |                    0 |\n",
            "| N/A   30C    P0    43W / 400W |      0MiB / 40960MiB |      0%      Default |\n",
            "|                               |                      |             Disabled |\n",
            "+-------------------------------+----------------------+----------------------+\n",
            "                                                                               \n",
            "+-----------------------------------------------------------------------------+\n",
            "| Processes:                                                                  |\n",
            "|  GPU   GI   CI        PID   Type   Process name                  GPU Memory |\n",
            "|        ID   ID                                                   Usage      |\n",
            "|=============================================================================|\n",
            "|  No running processes found                                                 |\n",
            "+-----------------------------------------------------------------------------+\n",
            "Your runtime has 89.6 gigabytes of available RAM\n",
            "\n",
            "You are using a high-RAM runtime!\n"
          ]
        }
      ],
      "source": [
        "gpu_info = !nvidia-smi\n",
        "gpu_info = '\\n'.join(gpu_info)\n",
        "if gpu_info.find('failed') >= 0:\n",
        "  print('Select the Runtime → \"Change runtime type\" menu to enable a GPU accelerator, ')\n",
        "  print('and then re-execute this cell.')\n",
        "else:\n",
        "  print(gpu_info)\n",
        "\n",
        "from psutil import virtual_memory\n",
        "ram_gb = virtual_memory().total / 1e9\n",
        "print('Your runtime has {:.1f} gigabytes of available RAM\\n'.format(ram_gb))\n",
        "\n",
        "if ram_gb < 20:\n",
        "  print('To enable a high-RAM runtime, select the Runtime → \"Change runtime type\"')\n",
        "  print('menu, and then select High-RAM in the Runtime shape dropdown. Then, ')\n",
        "  print('re-execute this cell.')\n",
        "else:\n",
        "  print('You are using a high-RAM runtime!')"
      ]
    },
    {
      "cell_type": "code",
      "source": [
        "# memory footprint support libraries/code\n",
        "!ln -sf /opt/bin/nvidia-smi /usr/bin/nvidia-smi\n",
        "!pip install gputil\n",
        "#!pip install psutil\n",
        "#!pip install humanize\n",
        "#!pip install pynput\n",
        "#pip install plotly==5.4.0\n",
        "#!pip install patool\n",
        "\n",
        "# main libraries\n",
        "import psutil\n",
        "import humanize\n",
        "import os\n",
        "import numpy as np\n",
        "import pandas as pd\n",
        "from tqdm import tqdm\n",
        "import requests\n",
        "import torch\n",
        "import nltk\n",
        "import GPUtil as GPU\n",
        "\n",
        "# plotting\n",
        "import plotly.graph_objs as go\n",
        "import plotly.io as pio\n",
        "import matplotlib.pyplot as plt\n",
        "plt.style.use('ggplot')\n",
        "%matplotlib inline\n",
        "\n",
        "from google.cloud import bigquery\n",
        "from google.colab import files\n",
        "%load_ext google.colab.data_table\n",
        "%load_ext google.cloud.bigquery\n",
        "\n",
        "from google.colab import drive\n",
        "drive.mount('/content/drive')"
      ],
      "metadata": {
        "id": "wQDQL_QEd3xy",
        "colab": {
          "base_uri": "https://localhost:8080/"
        },
        "outputId": "15640db4-db6f-475d-fd50-dc01a9b4d6db"
      },
      "execution_count": 2,
      "outputs": [
        {
          "output_type": "stream",
          "name": "stdout",
          "text": [
            "Looking in indexes: https://pypi.org/simple, https://us-python.pkg.dev/colab-wheels/public/simple/\n",
            "Requirement already satisfied: gputil in /usr/local/lib/python3.9/dist-packages (1.4.0)\n",
            "Drive already mounted at /content/drive; to attempt to forcibly remount, call drive.mount(\"/content/drive\", force_remount=True).\n"
          ]
        }
      ]
    },
    {
      "cell_type": "code",
      "source": [
        "# Provide your credentials to the runtime\n",
        "from google.colab import auth\n",
        "auth.authenticate_user()\n",
        "print('Authenticated')\n",
        "\n",
        "# declare your project \n",
        "project_id = \"cshdimensionstest\""
      ],
      "metadata": {
        "colab": {
          "base_uri": "https://localhost:8080/"
        },
        "id": "5fJiI8ij1Wyx",
        "outputId": "bbe8f62c-526c-4e67-b9ad-a0ddf9d7f7c1"
      },
      "execution_count": 3,
      "outputs": [
        {
          "output_type": "stream",
          "name": "stdout",
          "text": [
            "Authenticated\n"
          ]
        }
      ]
    },
    {
      "cell_type": "markdown",
      "source": [
        "### Data imports"
      ],
      "metadata": {
        "id": "g44G5rvngOrg"
      }
    },
    {
      "cell_type": "code",
      "source": [
        "\"\"\" NOT RUN\n",
        "from pydrive.auth import GoogleAuth\n",
        "from pydrive.drive import GoogleDrive\n",
        "from google.colab import auth\n",
        "from oauth2client.client import GoogleCredentials\n",
        "\n",
        "# Authenticate and create the PyDrive client.\n",
        "auth.authenticate_user()\n",
        "gauth = GoogleAuth()\n",
        "gauth.credentials = GoogleCredentials.get_application_default()\n",
        "drive = GoogleDrive(gauth)\n",
        "\n",
        "id = '1wCFzWEAwBqH47qGQG1_-G6wPgrrs03A6'\n",
        "print(id) # Verify that you have everything\n",
        "\n",
        "downloaded = drive.CreateFile({'id':id}) \n",
        "downloaded.GetContentFile('second_eigenvector_clustering.csv')  \n",
        "clusters = pd.read_csv('second_eigenvector_clustering.csv', sep=\",\", index_col=0) # Dataset is now stored in a Pandas Dataframe\n",
        "\n",
        "print(clusters.head(10))\n",
        "print(\"The data types are as follows:\\n\", clusters.dtypes)\n",
        "print(\"The type of object is:\\n\", type(clusters))\n",
        "\"\"\""
      ],
      "metadata": {
        "id": "mF7pLxCkfsZB"
      },
      "execution_count": null,
      "outputs": []
    },
    {
      "cell_type": "code",
      "source": [
        "\"\"\" NOT RUN\n",
        "# unzip the files exported from SQL Server\n",
        "#!unzip \"/content/drive/My Drive/TRANSFORMATION/data_export.zip\"\n",
        "#!unzip \"/content/drive/My Drive/TRANSFORMATION/data_export.zip\" > /dev/null\n",
        "\"\"\""
      ],
      "metadata": {
        "id": "Qwu5HLlzYbTy"
      },
      "execution_count": null,
      "outputs": []
    },
    {
      "cell_type": "code",
      "source": [
        "import patoolib\n",
        "import tempfile\n",
        "import os\n",
        "\n",
        "# Path of the zip file in Google Drive\n",
        "zip_path = \"/content/drive/My Drive/TRANSFORMATION/data_export.zip\"\n",
        "\n",
        "# Name of the CSV file(s) inside the zip\n",
        "csv_file_names = [  \"spectral_meso_clusters.csv\"\n",
        "                  , \"for_division_labels.csv\"\n",
        "                  , \"grid_ranks.csv\"\n",
        "                  , \"trajectories_au_fourfive_skill.csv\"\n",
        "                  , \"trajectories_au_morethanfive_skill.csv\"\n",
        "                  , \"trajectories_au_single_skill.csv\"\n",
        "                  , \"trajectories_au_twothree_skill.csv\"]\n",
        "\n",
        "# Separator character to use in the CSV files\n",
        "separator = \";\"\n",
        "\n",
        "# Extract the zip file to a temporary directory\n",
        "with tempfile.TemporaryDirectory() as tmpdir:\n",
        "    patoolib.extract_archive(zip_path, outdir=tmpdir)\n",
        "    \n",
        "    # Load each CSV file into its own dataframe\n",
        "    dfs = []\n",
        "    for csv_file_name in csv_file_names:\n",
        "        csv_file_path = os.path.join(tmpdir, csv_file_name)\n",
        "        try:\n",
        "            df = pd.read_csv(csv_file_path, sep=separator, encoding='utf-8', header= None, decimal=\".\")\n",
        "            dfs.append(df)\n",
        "        except pd.errors.ParserError:\n",
        "            print(f\"Error loading {csv_file_name}: Skipping...\")\n",
        "\n",
        "# Print the first few rows of each dataframe\n",
        "for i, df in enumerate(dfs):\n",
        "    print(f\"Dataframe {i}:\")\n",
        "    print(df.head(2))"
      ],
      "metadata": {
        "colab": {
          "base_uri": "https://localhost:8080/"
        },
        "id": "rD6eLoCry8es",
        "outputId": "82ce8e55-38e7-4d88-8231-1355e4e68e0e"
      },
      "execution_count": 4,
      "outputs": [
        {
          "output_type": "stream",
          "name": "stdout",
          "text": [
            "patool: Extracting /content/drive/My Drive/TRANSFORMATION/data_export.zip ...\n",
            "patool: running /usr/bin/7z x -o/tmp/tmpjfna3ml7 -- \"/content/drive/My Drive/TRANSFORMATION/data_export.zip\"\n",
            "patool: ... /content/drive/My Drive/TRANSFORMATION/data_export.zip extracted to `/tmp/tmpjfna3ml7'.\n",
            "Dataframe 0:\n",
            "          0                   1                 2         3         4   \\\n",
            "0  row_index  second_eigenvector  original_indices  cluster2  cluster3   \n",
            "1          0  -0,657980785697483               128         0         0   \n",
            "\n",
            "         5         6          7            8       9   \\\n",
            "0  cluster4  cluster5  cluster10  cluster_id2  n_pubs   \n",
            "1         0         0          0          128   99353   \n",
            "\n",
            "                                                  10  \\\n",
            "0                                             labels   \n",
            "1  inhaler - dry powder inhaler - inhaler devices...   \n",
            "\n",
            "                                                  11  \n",
            "0                                            sources  \n",
            "1  International Journal of Pharmaceutics - Journ...  \n",
            "Dataframe 1:\n",
            "                 0                                     1\n",
            "0  for_division_id                          for_division\n",
            "1               07  Agricultural and Veterinary Sciences\n",
            "Dataframe 2:\n",
            "               0                                            1     2        3  \\\n",
            "0    institution                             institution_name     p   p_top1   \n",
            "1  grid.270301.7  Whitehead Institute for Biomedical Research  1761  253,578   \n",
            "\n",
            "         4      5             6         7                 8  \n",
            "0     tncs   mncs  pp_top_prop1  tncs_rnk  pp_top_prop1_rnk  \n",
            "1  7791,33  4,424         0,144      1071                 1  \n",
            "Dataframe 3:\n",
            "                  0              1     2     3   4   5   6   7             8   \\\n",
            "0  ur.01000000137.48  grid.412047.4  2008  2012   4   3  18  83  03 - 18 - 83   \n",
            "1  ur.01000000137.48  grid.19188.39  2009  2011   2   3  41  81  03 - 41 - 81   \n",
            "\n",
            "     9   10  \n",
            "0  2008   1  \n",
            "1  2009   1  \n",
            "Dataframe 4:\n",
            "                  0              1     2     3   4   5    6   7   \\\n",
            "0  ur.01000000010.53  grid.461843.c  2011  2021  10  11  410  64   \n",
            "1  ur.01000000010.53  grid.461843.c  2011  2021  10  11   20   5   \n",
            "\n",
            "              8     9   10  \n",
            "0  11 - 410 - 64  2011   1  \n",
            "1    11 - 20 - 5  2013   1  \n",
            "Dataframe 5:\n",
            "                   0              1     2     3   4   5   6   7           8   \\\n",
            "0  ur.010000000127.95  grid.452405.2  2007  2012   5   6   8   7  06 - 8 - 7   \n",
            "1  ur.010000000127.95  grid.452405.2  2007  2012   5   6   8   7  06 - 8 - 7   \n",
            "\n",
            "     9   10  \n",
            "0  2007   1  \n",
            "1  2009   1  \n",
            "Dataframe 6:\n",
            "                   0              1     2     3   4   5    6   7   \\\n",
            "0  ur.010000000201.99  grid.412046.5  2014  2016   2   6  379  73   \n",
            "1  ur.010000000201.99  grid.412046.5  2014  2016   2   7  379  73   \n",
            "\n",
            "              8     9   10  \n",
            "0  06 - 379 - 73  2014   1  \n",
            "1  07 - 379 - 73  2014   1  \n"
          ]
        }
      ]
    },
    {
      "cell_type": "code",
      "source": [
        "# extract the datasets and store them into a pandas dataframe\n",
        "spectral_meso_clusters = dfs[0]\n",
        "for_division_labels = dfs[1]\n",
        "grid_ranks = dfs[2]\n",
        "trajectories_au_fourfive_skill = dfs[3]\n",
        "trajectories_au_morethanfive_skill = dfs[4]\n",
        "trajectories_au_single_skill = dfs[5]\n",
        "trajectories_au_twothree_skill = dfs[6]\n",
        "\n",
        "print(type(for_division_labels))"
      ],
      "metadata": {
        "colab": {
          "base_uri": "https://localhost:8080/"
        },
        "id": "ZR_R6_anR2IK",
        "outputId": "5230a376-c80a-46ab-c198-312cea25cb7f"
      },
      "execution_count": 5,
      "outputs": [
        {
          "output_type": "stream",
          "name": "stdout",
          "text": [
            "<class 'pandas.core.frame.DataFrame'>\n"
          ]
        }
      ]
    },
    {
      "cell_type": "markdown",
      "source": [
        "## Preprocessing"
      ],
      "metadata": {
        "id": "pWefljUG1fsB"
      }
    },
    {
      "cell_type": "code",
      "source": [
        "# Use the first row as the header\n",
        "spectral_meso_clusters.columns = spectral_meso_clusters.iloc[0]\n",
        "for_division_labels.columns = for_division_labels.iloc[0]\n",
        "grid_ranks.columns = grid_ranks.iloc[0]\n",
        "\n",
        "# Remove the first row (which is now the header)\n",
        "spectral_meso_clusters = spectral_meso_clusters[1:]\n",
        "for_division_labels = for_division_labels[1:]\n",
        "grid_ranks = grid_ranks[1:]\n",
        "\n",
        "print(spectral_meso_clusters.head())\n",
        "print(for_division_labels.head())\n",
        "print(grid_ranks.head())"
      ],
      "metadata": {
        "colab": {
          "base_uri": "https://localhost:8080/"
        },
        "id": "QHgo0KgkVhU3",
        "outputId": "f0bb9866-700e-4f89-e226-2daa99f47f20"
      },
      "execution_count": 6,
      "outputs": [
        {
          "output_type": "stream",
          "name": "stdout",
          "text": [
            "0 row_index   second_eigenvector original_indices cluster2 cluster3 cluster4  \\\n",
            "1         0   -0,657980785697483              128        0        0        0   \n",
            "2         9  -0,0796790037139393              109        4        3        2   \n",
            "3         6  -0,0866583191228655              146        3        2        1   \n",
            "4         7  -0,0835526247765448              120        3        2        1   \n",
            "5         8  -0,0832388670665863              247        4        2        2   \n",
            "\n",
            "0 cluster5 cluster10 cluster_id2  n_pubs  \\\n",
            "1        0         0         128   99353   \n",
            "2        1         0         109  106502   \n",
            "3        1         0         146   91599   \n",
            "4        1         0         120  102555   \n",
            "5        1         0         247   65569   \n",
            "\n",
            "0                                             labels  \\\n",
            "1  inhaler - dry powder inhaler - inhaler devices...   \n",
            "2  CRT response - CRT device - CRT implantation -...   \n",
            "3  chiral selector - electrochromatography - plat...   \n",
            "4  household air pollution - cookstoves - energy ...   \n",
            "5  electromagnetic energy harvester - ionic polym...   \n",
            "\n",
            "0                                            sources  \n",
            "1  International Journal of Pharmaceutics - Journ...  \n",
            "2  International Journal of Cardiology - Journal ...  \n",
            "3  Journal of Chromatography A - Journal of Separ...  \n",
            "4  SSRN Electronic Journal - Energy Policy - Jour...  \n",
            "5  Proceedings of SPIE - ACS Applied Materials & ...  \n",
            "0 for_division_id                                for_division\n",
            "1              07        Agricultural and Veterinary Sciences\n",
            "2              06                         Biological Sciences\n",
            "3              12                Built Environment and Design\n",
            "4              03                           Chemical Sciences\n",
            "5              15  Commerce, Management, Tourism and Services\n",
            "0    institution                             institution_name     p   p_top1  \\\n",
            "1  grid.270301.7  Whitehead Institute for Biomedical Research  1761  253,578   \n",
            "2  grid.66859.34                              Broad Institute  8066  941,849   \n",
            "3  grid.422418.9                      American Cancer Society  1545  166,794   \n",
            "4  grid.413575.1              Howard Hughes Medical Institute  6165  572,798   \n",
            "5  grid.10306.34                    Wellcome Sanger Institute  5881    525,7   \n",
            "\n",
            "0     tncs   mncs pp_top_prop1 tncs_rnk pp_top_prop1_rnk  \n",
            "1  7791,33  4,424        0,144     1071                1  \n",
            "2  34365,1   4,26        0,117      236                2  \n",
            "3  14730,2  9,534        0,108      608                3  \n",
            "4  21460,1  3,481        0,093      437                4  \n",
            "5  20348,2   3,46        0,089      458                5  \n"
          ]
        }
      ]
    },
    {
      "cell_type": "code",
      "source": [
        "def convert_to_float(val):\n",
        "    if isinstance(val, str) and val.replace('.', '', 1).isdigit():\n",
        "        return float(val.replace(',', '.'))\n",
        "    return val\n",
        "\n",
        "# Apply the function to all elements of the dataframe\n",
        "grid_ranks = grid_ranks.applymap(convert_to_float)\n",
        "spectral_meso_clusters = spectral_meso_clusters.applymap(convert_to_float)\n",
        "\n",
        "print(grid_ranks.dtypes)\n",
        "print(spectral_meso_clusters.dtypes)"
      ],
      "metadata": {
        "colab": {
          "base_uri": "https://localhost:8080/"
        },
        "id": "JvXqKlEUfYQl",
        "outputId": "5ffa4968-d1cb-4cc1-b4db-5b6fda23648b"
      },
      "execution_count": 7,
      "outputs": [
        {
          "output_type": "stream",
          "name": "stdout",
          "text": [
            "0\n",
            "institution          object\n",
            "institution_name     object\n",
            "p                   float64\n",
            "p_top1               object\n",
            "tncs                 object\n",
            "mncs                 object\n",
            "pp_top_prop1         object\n",
            "tncs_rnk            float64\n",
            "pp_top_prop1_rnk    float64\n",
            "dtype: object\n",
            "0\n",
            "row_index             float64\n",
            "second_eigenvector     object\n",
            "original_indices      float64\n",
            "cluster2              float64\n",
            "cluster3              float64\n",
            "cluster4              float64\n",
            "cluster5              float64\n",
            "cluster10             float64\n",
            "cluster_id2           float64\n",
            "n_pubs                float64\n",
            "labels                 object\n",
            "sources                object\n",
            "dtype: object\n"
          ]
        }
      ]
    },
    {
      "cell_type": "code",
      "source": [
        "from pandas.core.dtypes.dtypes import dtypes\n",
        "from numpy.core.multiarray import dtype\n",
        "headers = ['researcher_id', 'grid_id', 'start', 'end', 'Lenght', 'for_division_id', 'meso_field', 'spectral_cluster_id', 'concatenated_fields', 'year', 'n_pubs']\n",
        "\n",
        "# set the new column names using the list\n",
        "trajectories_au_morethanfive_skill.columns = headers\n",
        "trajectories_au_fourfive_skill.columns = headers\n",
        "trajectories_au_single_skill.columns = headers\n",
        "trajectories_au_twothree_skill.columns = headers\n",
        "\n",
        "# print the updated column names\n",
        "print(trajectories_au_morethanfive_skill.columns)\n",
        "print(trajectories_au_morethanfive_skill.dtypes)"
      ],
      "metadata": {
        "id": "Pb9Dqq90dB6f",
        "colab": {
          "base_uri": "https://localhost:8080/"
        },
        "outputId": "27638b58-3b33-4e8d-c594-135f9cdb16c6"
      },
      "execution_count": 8,
      "outputs": [
        {
          "output_type": "stream",
          "name": "stdout",
          "text": [
            "Index(['researcher_id', 'grid_id', 'start', 'end', 'Lenght', 'for_division_id',\n",
            "       'meso_field', 'spectral_cluster_id', 'concatenated_fields', 'year',\n",
            "       'n_pubs'],\n",
            "      dtype='object')\n",
            "researcher_id          object\n",
            "grid_id                object\n",
            "start                   int64\n",
            "end                     int64\n",
            "Lenght                  int64\n",
            "for_division_id         int64\n",
            "meso_field              int64\n",
            "spectral_cluster_id     int64\n",
            "concatenated_fields    object\n",
            "year                    int64\n",
            "n_pubs                  int64\n",
            "dtype: object\n"
          ]
        }
      ]
    },
    {
      "cell_type": "code",
      "source": [
        "trajectories_au_morethanfive_skill.describe()"
      ],
      "metadata": {
        "colab": {
          "base_uri": "https://localhost:8080/",
          "height": 262
        },
        "id": "fe5meXev14gZ",
        "outputId": "b8604dec-112e-4041-b3f6-0e3de92a284b"
      },
      "execution_count": 9,
      "outputs": [
        {
          "output_type": "execute_result",
          "data": {
            "text/plain": [
              "              start           end        Lenght  for_division_id  \\\n",
              "count  5.998098e+07  5.998098e+07  5.998098e+07     5.998098e+07   \n",
              "mean   2.009957e+03  2.019942e+03  9.985488e+00     8.731703e+00   \n",
              "std    3.504475e+00  2.249119e+00  3.923751e+00     3.717300e+00   \n",
              "min    2.007000e+03  2.009000e+03  2.000000e+00     1.000000e+00   \n",
              "25%    2.007000e+03  2.020000e+03  7.000000e+00     6.000000e+00   \n",
              "50%    2.008000e+03  2.021000e+03  1.100000e+01     1.000000e+01   \n",
              "75%    2.012000e+03  2.021000e+03  1.400000e+01     1.100000e+01   \n",
              "max    2.019000e+03  2.021000e+03  1.400000e+01     2.200000e+01   \n",
              "\n",
              "         meso_field  spectral_cluster_id          year        n_pubs  \n",
              "count  5.998098e+07         5.998098e+07  5.998098e+07  5.998098e+07  \n",
              "mean   1.998764e+02         4.212178e+01  2.015399e+03  1.398404e+00  \n",
              "std    1.633995e+02         3.319160e+01  4.048403e+00  1.558997e+00  \n",
              "min    0.000000e+00         0.000000e+00  2.007000e+03  1.000000e+00  \n",
              "25%    6.600000e+01         8.000000e+00  2.012000e+03  1.000000e+00  \n",
              "50%    1.570000e+02         3.800000e+01  2.016000e+03  1.000000e+00  \n",
              "75%    2.970000e+02         7.600000e+01  2.019000e+03  1.000000e+00  \n",
              "max    8.640000e+02         8.600000e+01  2.021000e+03  3.719000e+03  "
            ],
            "text/html": [
              "\n",
              "  <div id=\"df-9a1aeca2-528c-4665-816f-bd984d9681e2\">\n",
              "    <div class=\"colab-df-container\">\n",
              "      <div>\n",
              "<style scoped>\n",
              "    .dataframe tbody tr th:only-of-type {\n",
              "        vertical-align: middle;\n",
              "    }\n",
              "\n",
              "    .dataframe tbody tr th {\n",
              "        vertical-align: top;\n",
              "    }\n",
              "\n",
              "    .dataframe thead th {\n",
              "        text-align: right;\n",
              "    }\n",
              "</style>\n",
              "<table border=\"1\" class=\"dataframe\">\n",
              "  <thead>\n",
              "    <tr style=\"text-align: right;\">\n",
              "      <th></th>\n",
              "      <th>start</th>\n",
              "      <th>end</th>\n",
              "      <th>Lenght</th>\n",
              "      <th>for_division_id</th>\n",
              "      <th>meso_field</th>\n",
              "      <th>spectral_cluster_id</th>\n",
              "      <th>year</th>\n",
              "      <th>n_pubs</th>\n",
              "    </tr>\n",
              "  </thead>\n",
              "  <tbody>\n",
              "    <tr>\n",
              "      <th>count</th>\n",
              "      <td>5.998098e+07</td>\n",
              "      <td>5.998098e+07</td>\n",
              "      <td>5.998098e+07</td>\n",
              "      <td>5.998098e+07</td>\n",
              "      <td>5.998098e+07</td>\n",
              "      <td>5.998098e+07</td>\n",
              "      <td>5.998098e+07</td>\n",
              "      <td>5.998098e+07</td>\n",
              "    </tr>\n",
              "    <tr>\n",
              "      <th>mean</th>\n",
              "      <td>2.009957e+03</td>\n",
              "      <td>2.019942e+03</td>\n",
              "      <td>9.985488e+00</td>\n",
              "      <td>8.731703e+00</td>\n",
              "      <td>1.998764e+02</td>\n",
              "      <td>4.212178e+01</td>\n",
              "      <td>2.015399e+03</td>\n",
              "      <td>1.398404e+00</td>\n",
              "    </tr>\n",
              "    <tr>\n",
              "      <th>std</th>\n",
              "      <td>3.504475e+00</td>\n",
              "      <td>2.249119e+00</td>\n",
              "      <td>3.923751e+00</td>\n",
              "      <td>3.717300e+00</td>\n",
              "      <td>1.633995e+02</td>\n",
              "      <td>3.319160e+01</td>\n",
              "      <td>4.048403e+00</td>\n",
              "      <td>1.558997e+00</td>\n",
              "    </tr>\n",
              "    <tr>\n",
              "      <th>min</th>\n",
              "      <td>2.007000e+03</td>\n",
              "      <td>2.009000e+03</td>\n",
              "      <td>2.000000e+00</td>\n",
              "      <td>1.000000e+00</td>\n",
              "      <td>0.000000e+00</td>\n",
              "      <td>0.000000e+00</td>\n",
              "      <td>2.007000e+03</td>\n",
              "      <td>1.000000e+00</td>\n",
              "    </tr>\n",
              "    <tr>\n",
              "      <th>25%</th>\n",
              "      <td>2.007000e+03</td>\n",
              "      <td>2.020000e+03</td>\n",
              "      <td>7.000000e+00</td>\n",
              "      <td>6.000000e+00</td>\n",
              "      <td>6.600000e+01</td>\n",
              "      <td>8.000000e+00</td>\n",
              "      <td>2.012000e+03</td>\n",
              "      <td>1.000000e+00</td>\n",
              "    </tr>\n",
              "    <tr>\n",
              "      <th>50%</th>\n",
              "      <td>2.008000e+03</td>\n",
              "      <td>2.021000e+03</td>\n",
              "      <td>1.100000e+01</td>\n",
              "      <td>1.000000e+01</td>\n",
              "      <td>1.570000e+02</td>\n",
              "      <td>3.800000e+01</td>\n",
              "      <td>2.016000e+03</td>\n",
              "      <td>1.000000e+00</td>\n",
              "    </tr>\n",
              "    <tr>\n",
              "      <th>75%</th>\n",
              "      <td>2.012000e+03</td>\n",
              "      <td>2.021000e+03</td>\n",
              "      <td>1.400000e+01</td>\n",
              "      <td>1.100000e+01</td>\n",
              "      <td>2.970000e+02</td>\n",
              "      <td>7.600000e+01</td>\n",
              "      <td>2.019000e+03</td>\n",
              "      <td>1.000000e+00</td>\n",
              "    </tr>\n",
              "    <tr>\n",
              "      <th>max</th>\n",
              "      <td>2.019000e+03</td>\n",
              "      <td>2.021000e+03</td>\n",
              "      <td>1.400000e+01</td>\n",
              "      <td>2.200000e+01</td>\n",
              "      <td>8.640000e+02</td>\n",
              "      <td>8.600000e+01</td>\n",
              "      <td>2.021000e+03</td>\n",
              "      <td>3.719000e+03</td>\n",
              "    </tr>\n",
              "  </tbody>\n",
              "</table>\n",
              "</div>\n",
              "      <button class=\"colab-df-convert\" onclick=\"convertToInteractive('df-9a1aeca2-528c-4665-816f-bd984d9681e2')\"\n",
              "              title=\"Convert this dataframe to an interactive table.\"\n",
              "              style=\"display:none;\">\n",
              "        \n",
              "  <svg xmlns=\"http://www.w3.org/2000/svg\" height=\"24px\"viewBox=\"0 0 24 24\"\n",
              "       width=\"24px\">\n",
              "    <path d=\"M0 0h24v24H0V0z\" fill=\"none\"/>\n",
              "    <path d=\"M18.56 5.44l.94 2.06.94-2.06 2.06-.94-2.06-.94-.94-2.06-.94 2.06-2.06.94zm-11 1L8.5 8.5l.94-2.06 2.06-.94-2.06-.94L8.5 2.5l-.94 2.06-2.06.94zm10 10l.94 2.06.94-2.06 2.06-.94-2.06-.94-.94-2.06-.94 2.06-2.06.94z\"/><path d=\"M17.41 7.96l-1.37-1.37c-.4-.4-.92-.59-1.43-.59-.52 0-1.04.2-1.43.59L10.3 9.45l-7.72 7.72c-.78.78-.78 2.05 0 2.83L4 21.41c.39.39.9.59 1.41.59.51 0 1.02-.2 1.41-.59l7.78-7.78 2.81-2.81c.8-.78.8-2.07 0-2.86zM5.41 20L4 18.59l7.72-7.72 1.47 1.35L5.41 20z\"/>\n",
              "  </svg>\n",
              "      </button>\n",
              "      \n",
              "  <style>\n",
              "    .colab-df-container {\n",
              "      display:flex;\n",
              "      flex-wrap:wrap;\n",
              "      gap: 12px;\n",
              "    }\n",
              "\n",
              "    .colab-df-convert {\n",
              "      background-color: #E8F0FE;\n",
              "      border: none;\n",
              "      border-radius: 50%;\n",
              "      cursor: pointer;\n",
              "      display: none;\n",
              "      fill: #1967D2;\n",
              "      height: 32px;\n",
              "      padding: 0 0 0 0;\n",
              "      width: 32px;\n",
              "    }\n",
              "\n",
              "    .colab-df-convert:hover {\n",
              "      background-color: #E2EBFA;\n",
              "      box-shadow: 0px 1px 2px rgba(60, 64, 67, 0.3), 0px 1px 3px 1px rgba(60, 64, 67, 0.15);\n",
              "      fill: #174EA6;\n",
              "    }\n",
              "\n",
              "    [theme=dark] .colab-df-convert {\n",
              "      background-color: #3B4455;\n",
              "      fill: #D2E3FC;\n",
              "    }\n",
              "\n",
              "    [theme=dark] .colab-df-convert:hover {\n",
              "      background-color: #434B5C;\n",
              "      box-shadow: 0px 1px 3px 1px rgba(0, 0, 0, 0.15);\n",
              "      filter: drop-shadow(0px 1px 2px rgba(0, 0, 0, 0.3));\n",
              "      fill: #FFFFFF;\n",
              "    }\n",
              "  </style>\n",
              "\n",
              "      <script>\n",
              "        const buttonEl =\n",
              "          document.querySelector('#df-9a1aeca2-528c-4665-816f-bd984d9681e2 button.colab-df-convert');\n",
              "        buttonEl.style.display =\n",
              "          google.colab.kernel.accessAllowed ? 'block' : 'none';\n",
              "\n",
              "        async function convertToInteractive(key) {\n",
              "          const element = document.querySelector('#df-9a1aeca2-528c-4665-816f-bd984d9681e2');\n",
              "          const dataTable =\n",
              "            await google.colab.kernel.invokeFunction('convertToInteractive',\n",
              "                                                     [key], {});\n",
              "          if (!dataTable) return;\n",
              "\n",
              "          const docLinkHtml = 'Like what you see? Visit the ' +\n",
              "            '<a target=\"_blank\" href=https://colab.research.google.com/notebooks/data_table.ipynb>data table notebook</a>'\n",
              "            + ' to learn more about interactive tables.';\n",
              "          element.innerHTML = '';\n",
              "          dataTable['output_type'] = 'display_data';\n",
              "          await google.colab.output.renderOutput(dataTable, element);\n",
              "          const docLink = document.createElement('div');\n",
              "          docLink.innerHTML = docLinkHtml;\n",
              "          element.appendChild(docLink);\n",
              "        }\n",
              "      </script>\n",
              "    </div>\n",
              "  </div>\n",
              "  "
            ],
            "application/vnd.google.colaboratory.module+javascript": "\n      import \"https://ssl.gstatic.com/colaboratory/data_table/99dac6621f6ae8c4/data_table.js\";\n\n      window.createDataTable({\n        data: [[\"count\",\n{\n            'v': 59980985.0,\n            'f': \"59980985.0\",\n        },\n{\n            'v': 59980985.0,\n            'f': \"59980985.0\",\n        },\n{\n            'v': 59980985.0,\n            'f': \"59980985.0\",\n        },\n{\n            'v': 59980985.0,\n            'f': \"59980985.0\",\n        },\n{\n            'v': 59980985.0,\n            'f': \"59980985.0\",\n        },\n{\n            'v': 59980985.0,\n            'f': \"59980985.0\",\n        },\n{\n            'v': 59980985.0,\n            'f': \"59980985.0\",\n        },\n{\n            'v': 59980985.0,\n            'f': \"59980985.0\",\n        }],\n [\"mean\",\n{\n            'v': 2009.9566430928069,\n            'f': \"2009.9566430928069\",\n        },\n{\n            'v': 2019.9421307769453,\n            'f': \"2019.9421307769453\",\n        },\n{\n            'v': 9.985487684138565,\n            'f': \"9.985487684138565\",\n        },\n{\n            'v': 8.731703222279528,\n            'f': \"8.731703222279528\",\n        },\n{\n            'v': 199.87644624375542,\n            'f': \"199.87644624375542\",\n        },\n{\n            'v': 42.12178169464873,\n            'f': \"42.12178169464873\",\n        },\n{\n            'v': 2015.3985288671067,\n            'f': \"2015.3985288671067\",\n        },\n{\n            'v': 1.398404077558913,\n            'f': \"1.398404077558913\",\n        }],\n [\"std\",\n{\n            'v': 3.5044753210728596,\n            'f': \"3.5044753210728596\",\n        },\n{\n            'v': 2.249118549369171,\n            'f': \"2.249118549369171\",\n        },\n{\n            'v': 3.923750551552518,\n            'f': \"3.923750551552518\",\n        },\n{\n            'v': 3.717300331580671,\n            'f': \"3.717300331580671\",\n        },\n{\n            'v': 163.39951329082834,\n            'f': \"163.39951329082834\",\n        },\n{\n            'v': 33.191604946683,\n            'f': \"33.191604946683\",\n        },\n{\n            'v': 4.048402702599029,\n            'f': \"4.048402702599029\",\n        },\n{\n            'v': 1.5589969878013543,\n            'f': \"1.5589969878013543\",\n        }],\n [\"min\",\n{\n            'v': 2007.0,\n            'f': \"2007.0\",\n        },\n{\n            'v': 2009.0,\n            'f': \"2009.0\",\n        },\n{\n            'v': 2.0,\n            'f': \"2.0\",\n        },\n{\n            'v': 1.0,\n            'f': \"1.0\",\n        },\n{\n            'v': 0.0,\n            'f': \"0.0\",\n        },\n{\n            'v': 0.0,\n            'f': \"0.0\",\n        },\n{\n            'v': 2007.0,\n            'f': \"2007.0\",\n        },\n{\n            'v': 1.0,\n            'f': \"1.0\",\n        }],\n [\"25%\",\n{\n            'v': 2007.0,\n            'f': \"2007.0\",\n        },\n{\n            'v': 2020.0,\n            'f': \"2020.0\",\n        },\n{\n            'v': 7.0,\n            'f': \"7.0\",\n        },\n{\n            'v': 6.0,\n            'f': \"6.0\",\n        },\n{\n            'v': 66.0,\n            'f': \"66.0\",\n        },\n{\n            'v': 8.0,\n            'f': \"8.0\",\n        },\n{\n            'v': 2012.0,\n            'f': \"2012.0\",\n        },\n{\n            'v': 1.0,\n            'f': \"1.0\",\n        }],\n [\"50%\",\n{\n            'v': 2008.0,\n            'f': \"2008.0\",\n        },\n{\n            'v': 2021.0,\n            'f': \"2021.0\",\n        },\n{\n            'v': 11.0,\n            'f': \"11.0\",\n        },\n{\n            'v': 10.0,\n            'f': \"10.0\",\n        },\n{\n            'v': 157.0,\n            'f': \"157.0\",\n        },\n{\n            'v': 38.0,\n            'f': \"38.0\",\n        },\n{\n            'v': 2016.0,\n            'f': \"2016.0\",\n        },\n{\n            'v': 1.0,\n            'f': \"1.0\",\n        }],\n [\"75%\",\n{\n            'v': 2012.0,\n            'f': \"2012.0\",\n        },\n{\n            'v': 2021.0,\n            'f': \"2021.0\",\n        },\n{\n            'v': 14.0,\n            'f': \"14.0\",\n        },\n{\n            'v': 11.0,\n            'f': \"11.0\",\n        },\n{\n            'v': 297.0,\n            'f': \"297.0\",\n        },\n{\n            'v': 76.0,\n            'f': \"76.0\",\n        },\n{\n            'v': 2019.0,\n            'f': \"2019.0\",\n        },\n{\n            'v': 1.0,\n            'f': \"1.0\",\n        }],\n [\"max\",\n{\n            'v': 2019.0,\n            'f': \"2019.0\",\n        },\n{\n            'v': 2021.0,\n            'f': \"2021.0\",\n        },\n{\n            'v': 14.0,\n            'f': \"14.0\",\n        },\n{\n            'v': 22.0,\n            'f': \"22.0\",\n        },\n{\n            'v': 864.0,\n            'f': \"864.0\",\n        },\n{\n            'v': 86.0,\n            'f': \"86.0\",\n        },\n{\n            'v': 2021.0,\n            'f': \"2021.0\",\n        },\n{\n            'v': 3719.0,\n            'f': \"3719.0\",\n        }]],\n        columns: [[\"string\", \"index\"], [\"number\", \"start\"], [\"number\", \"end\"], [\"number\", \"Lenght\"], [\"number\", \"for_division_id\"], [\"number\", \"meso_field\"], [\"number\", \"spectral_cluster_id\"], [\"number\", \"year\"], [\"number\", \"n_pubs\"]],\n        columnOptions: [{\"width\": \"1px\", \"className\": \"index_column\"}],\n        rowsPerPage: 25,\n        helpUrl: \"https://colab.research.google.com/notebooks/data_table.ipynb\",\n        suppressOutputScrolling: true,\n        minimumWidth: undefined,\n      });\n    "
          },
          "metadata": {},
          "execution_count": 9
        }
      ]
    },
    {
      "cell_type": "code",
      "source": [
        "#print(trajectories_au_single_skill.describe())\n",
        "print(trajectories_au_single_skill.head())"
      ],
      "metadata": {
        "colab": {
          "base_uri": "https://localhost:8080/"
        },
        "id": "65lG-BsF-FkS",
        "outputId": "fac5ec25-b303-4d26-c373-da02bcfa9465"
      },
      "execution_count": 10,
      "outputs": [
        {
          "output_type": "stream",
          "name": "stdout",
          "text": [
            "        researcher_id        grid_id  start   end  Lenght  for_division_id  \\\n",
            "0  ur.010000000127.95  grid.452405.2   2007  2012       5                6   \n",
            "1  ur.010000000127.95  grid.452405.2   2007  2012       5                6   \n",
            "2  ur.010000000127.95  grid.452405.2   2007  2012       5                6   \n",
            "3  ur.010000000127.95  grid.452405.2   2007  2012       5                6   \n",
            "4  ur.010000000643.41  grid.39381.30   2019  2021       2                6   \n",
            "\n",
            "   meso_field  spectral_cluster_id concatenated_fields  year  n_pubs  \n",
            "0           8                    7          06 - 8 - 7  2007       1  \n",
            "1           8                    7          06 - 8 - 7  2009       1  \n",
            "2           8                    7          06 - 8 - 7  2010       1  \n",
            "3           8                    7          06 - 8 - 7  2012       2  \n",
            "4         208                   83       06 - 208 - 83  2019       1  \n"
          ]
        }
      ]
    },
    {
      "cell_type": "code",
      "source": [
        "def calculate_org_sequence(df):\n",
        "    # select the desired columns and drop duplicates\n",
        "    df = df[['researcher_id', 'grid_id', 'start', 'end']].drop_duplicates().reset_index(drop=True)\n",
        "    \n",
        "    # calculate the org_sequence using rank()\n",
        "    df['org_sequence'] = df.groupby('researcher_id')['start'].rank(method='dense')\n",
        "    \n",
        "    return df\n",
        "\n",
        "# calculate org_sequence for each dataframe\n",
        "sq_1_skill_df = calculate_org_sequence(trajectories_au_single_skill)\n",
        "sq_2_3_skill_df = calculate_org_sequence(trajectories_au_twothree_skill)\n",
        "sq_4_5_skill_df = calculate_org_sequence(trajectories_au_fourfive_skill)\n",
        "sq_5_or_more_skill_df = calculate_org_sequence(trajectories_au_morethanfive_skill)\n",
        "\n",
        "print(sq_1_skill_df.head(10))\n",
        "\n",
        "# select all rows that have org_sequence > 1\n",
        "sq_1_skill_df_filtered = sq_1_skill_df[sq_1_skill_df['org_sequence'] > 1]\n",
        "print(sq_1_skill_df_filtered.head(10))\n",
        "\n",
        "# select all rows that have researcher_id = 'ur.01000012260.80'\n",
        "sq_1_skill_df_filtered_au = sq_1_skill_df[sq_1_skill_df['researcher_id'] == 'ur.01000012260.80']\n",
        "print(sq_1_skill_df_filtered_au.head(10))"
      ],
      "metadata": {
        "colab": {
          "base_uri": "https://localhost:8080/"
        },
        "id": "rY7dPXli-b2B",
        "outputId": "ee763aeb-e3d1-4cb1-f641-aa934dacfe1a"
      },
      "execution_count": 19,
      "outputs": [
        {
          "output_type": "stream",
          "name": "stdout",
          "text": [
            "        researcher_id        grid_id  start   end  org_sequence\n",
            "0  ur.010000000127.95  grid.452405.2   2007  2012           1.0\n",
            "1  ur.010000000643.41  grid.39381.30   2019  2021           1.0\n",
            "2  ur.010000001602.92  grid.15866.3c   2015  2017           1.0\n",
            "3  ur.010000007232.43    grid.5596.f   2018  2021           1.0\n",
            "4  ur.010000010373.10    grid.4886.2   2008  2017           1.0\n",
            "5  ur.010000011751.09  grid.135519.a   2013  2015           1.0\n",
            "6   ur.01000001217.11  grid.32224.35   2012  2014           1.0\n",
            "7   ur.01000001415.60  grid.427788.6   2015  2017           1.0\n",
            "8  ur.010000020707.55  grid.252119.c   2011  2013           1.0\n",
            "9  ur.010000022373.01  grid.411154.4   2016  2021           1.0\n",
            "          researcher_id        grid_id  start   end  org_sequence\n",
            "52    ur.01000012260.80  grid.462949.4   2013  2017           2.0\n",
            "53    ur.01000012260.80  grid.503253.2   2015  2021           3.0\n",
            "101  ur.010000222435.51  grid.47716.33   2019  2021           2.0\n",
            "105   ur.01000022536.36  grid.418525.f   2014  2020           2.0\n",
            "170  ur.010000341616.84  grid.412125.1   2017  2020           2.0\n",
            "209  ur.010000411475.71    grid.5596.f   2015  2019           2.0\n",
            "215   ur.01000041374.26    grid.8051.c   2010  2017           2.0\n",
            "230  ur.010000441155.23  grid.419897.a   2018  2020           2.0\n",
            "240   ur.01000045473.54  grid.31501.36   2010  2012           2.0\n",
            "254   ur.01000050707.90    grid.6203.7   2017  2020           2.0\n",
            "        researcher_id        grid_id  start   end  org_sequence\n",
            "50  ur.01000012260.80    grid.4444.0   2011  2017           1.0\n",
            "51  ur.01000012260.80  grid.462844.8   2011  2021           1.0\n",
            "52  ur.01000012260.80  grid.462949.4   2013  2017           2.0\n",
            "53  ur.01000012260.80  grid.503253.2   2015  2021           3.0\n"
          ]
        }
      ]
    },
    {
      "cell_type": "markdown",
      "source": [
        "**Looks good!**"
      ],
      "metadata": {
        "id": "AKD-KDlhkmZJ"
      }
    }
  ]
}